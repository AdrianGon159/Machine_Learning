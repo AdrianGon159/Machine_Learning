{
 "cells": [
  {
   "cell_type": "markdown",
   "id": "3b46afdc",
   "metadata": {},
   "source": [
    "## I've done this model as part of the course: Applied Machine Learning in Python, made by University of Michigan."
   ]
  },
  {
   "cell_type": "markdown",
   "id": "892ec3eb",
   "metadata": {},
   "source": [
    "## Let's start importing the libraries needed and the dataset we will use"
   ]
  },
  {
   "cell_type": "code",
   "execution_count": 1,
   "id": "74cf6793",
   "metadata": {},
   "outputs": [],
   "source": [
    "import numpy as np\n",
    "import pandas as pd\n",
    "from sklearn.model_selection import train_test_split\n",
    "from sklearn.neighbors import KNeighborsClassifier\n",
    "from sklearn import metrics\n",
    "from sklearn.metrics import confusion_matrix\n",
    "\n",
    "from sklearn.datasets import load_breast_cancer"
   ]
  },
  {
   "cell_type": "markdown",
   "id": "3f2f944b",
   "metadata": {},
   "source": [
    "## We load the dataset breast_cancer from sklearn.datasets"
   ]
  },
  {
   "cell_type": "code",
   "execution_count": 2,
   "id": "b010ff68",
   "metadata": {},
   "outputs": [
    {
     "name": "stdout",
     "output_type": "stream",
     "text": [
      "\u001b[1mHere the information we can acces on this dataset: \n",
      "\u001b[0mdict_keys(['data', 'target', 'frame', 'target_names', 'DESCR', 'feature_names', 'filename'])\n",
      "\n",
      "\n"
     ]
    }
   ],
   "source": [
    "cancer = load_breast_cancer()\n",
    "\n",
    "print('\\033[1m' + 'Here the information we can acces on this dataset: \\n' + '\\033[0m' + str(cancer.keys()) + '\\n\\n')"
   ]
  },
  {
   "cell_type": "markdown",
   "id": "8c276bf1",
   "metadata": {},
   "source": [
    "## We visualise the decription information"
   ]
  },
  {
   "cell_type": "code",
   "execution_count": 3,
   "id": "38f9f12e",
   "metadata": {},
   "outputs": [
    {
     "name": "stdout",
     "output_type": "stream",
     "text": [
      "\u001b[1mHere the description of the dataset: \n",
      "\u001b[0m.. _breast_cancer_dataset:\n",
      "\n",
      "Breast cancer wisconsin (diagnostic) dataset\n",
      "--------------------------------------------\n",
      "\n",
      "**Data Set Characteristics:**\n",
      "\n",
      "    :Number of Instances: 569\n",
      "\n",
      "    :Number of Attributes: 30 numeric, predictive attributes and the class\n",
      "\n",
      "    :Attribute Information:\n",
      "        - radius (mean of distances from center to points on the perimeter)\n",
      "        - texture (standard deviation of gray-scale values)\n",
      "        - perimeter\n",
      "        - area\n",
      "        - smoothness (local variation in radius lengths)\n",
      "        - compactness (perimeter^2 / area - 1.0)\n",
      "        - concavity (severity of concave portions of the contour)\n",
      "        - concave points (number of concave portions of the contour)\n",
      "        - symmetry\n",
      "        - fractal dimension (\"coastline approximation\" - 1)\n",
      "\n",
      "        The mean, standard error, and \"worst\" or largest (mean of the three\n",
      "        worst/largest values) of these features were computed for each image,\n",
      "        resulting in 30 features.  For instance, field 0 is Mean Radius, field\n",
      "        10 is Radius SE, field 20 is Worst Radius.\n",
      "\n",
      "        - class:\n",
      "                - WDBC-Malignant\n",
      "                - WDBC-Benign\n",
      "\n",
      "    :Summary Statistics:\n",
      "\n",
      "    ===================================== ====== ======\n",
      "                                           Min    Max\n",
      "    ===================================== ====== ======\n",
      "    radius (mean):                        6.981  28.11\n",
      "    texture (mean):                       9.71   39.28\n",
      "    perimeter (mean):                     43.79  188.5\n",
      "    area (mean):                          143.5  2501.0\n",
      "    smoothness (mean):                    0.053  0.163\n",
      "    compactness (mean):                   0.019  0.345\n",
      "    concavity (mean):                     0.0    0.427\n",
      "    concave points (mean):                0.0    0.201\n",
      "    symmetry (mean):                      0.106  0.304\n",
      "    fractal dimension (mean):             0.05   0.097\n",
      "    radius (standard error):              0.112  2.873\n",
      "    texture (standard error):             0.36   4.885\n",
      "    perimeter (standard error):           0.757  21.98\n",
      "    area (standard error):                6.802  542.2\n",
      "    smoothness (standard error):          0.002  0.031\n",
      "    compactness (standard error):         0.002  0.135\n",
      "    concavity (standard error):           0.0    0.396\n",
      "    concave points (standard error):      0.0    0.053\n",
      "    symmetry (standard error):            0.008  0.079\n",
      "    fractal dimension (standard error):   0.001  0.03\n",
      "    radius (worst):                       7.93   36.04\n",
      "    texture (worst):                      12.02  49.54\n",
      "    perimeter (worst):                    50.41  251.2\n",
      "    area (worst):                         185.2  4254.0\n",
      "    smoothness (worst):                   0.071  0.223\n",
      "    compactness (worst):                  0.027  1.058\n",
      "    concavity (worst):                    0.0    1.252\n",
      "    concave points (worst):               0.0    0.291\n",
      "    symmetry (worst):                     0.156  0.664\n",
      "    fractal dimension (worst):            0.055  0.208\n",
      "    ===================================== ====== ======\n",
      "\n",
      "    :Missing Attribute Values: None\n",
      "\n",
      "    :Class Distribution: 212 - Malignant, 357 - Benign\n",
      "\n",
      "    :Creator:  Dr. William H. Wolberg, W. Nick Street, Olvi L. Mangasarian\n",
      "\n",
      "    :Donor: Nick Street\n",
      "\n",
      "    :Date: November, 1995\n",
      "\n",
      "This is a copy of UCI ML Breast Cancer Wisconsin (Diagnostic) datasets.\n",
      "https://goo.gl/U2Uwz2\n",
      "\n",
      "Features are computed from a digitized image of a fine needle\n",
      "aspirate (FNA) of a breast mass.  They describe\n",
      "characteristics of the cell nuclei present in the image.\n",
      "\n",
      "Separating plane described above was obtained using\n",
      "Multisurface Method-Tree (MSM-T) [K. P. Bennett, \"Decision Tree\n",
      "Construction Via Linear Programming.\" Proceedings of the 4th\n",
      "Midwest Artificial Intelligence and Cognitive Science Society,\n",
      "pp. 97-101, 1992], a classification method which uses linear\n",
      "programming to construct a decision tree.  Relevant features\n",
      "were selected using an exhaustive search in the space of 1-4\n",
      "features and 1-3 separating planes.\n",
      "\n",
      "The actual linear program used to obtain the separating plane\n",
      "in the 3-dimensional space is that described in:\n",
      "[K. P. Bennett and O. L. Mangasarian: \"Robust Linear\n",
      "Programming Discrimination of Two Linearly Inseparable Sets\",\n",
      "Optimization Methods and Software 1, 1992, 23-34].\n",
      "\n",
      "This database is also available through the UW CS ftp server:\n",
      "\n",
      "ftp ftp.cs.wisc.edu\n",
      "cd math-prog/cpo-dataset/machine-learn/WDBC/\n",
      "\n",
      ".. topic:: References\n",
      "\n",
      "   - W.N. Street, W.H. Wolberg and O.L. Mangasarian. Nuclear feature extraction \n",
      "     for breast tumor diagnosis. IS&T/SPIE 1993 International Symposium on \n",
      "     Electronic Imaging: Science and Technology, volume 1905, pages 861-870,\n",
      "     San Jose, CA, 1993.\n",
      "   - O.L. Mangasarian, W.N. Street and W.H. Wolberg. Breast cancer diagnosis and \n",
      "     prognosis via linear programming. Operations Research, 43(4), pages 570-577, \n",
      "     July-August 1995.\n",
      "   - W.H. Wolberg, W.N. Street, and O.L. Mangasarian. Machine learning techniques\n",
      "     to diagnose breast cancer from fine-needle aspirates. Cancer Letters 77 (1994) \n",
      "     163-171.\n"
     ]
    }
   ],
   "source": [
    "print('\\033[1m' +'Here the description of the dataset: \\n' + '\\033[0m' + str(cancer.DESCR))"
   ]
  },
  {
   "cell_type": "markdown",
   "id": "2b9ae329",
   "metadata": {},
   "source": [
    "## We show the feature names"
   ]
  },
  {
   "cell_type": "code",
   "execution_count": 4,
   "id": "fb5dd759",
   "metadata": {},
   "outputs": [
    {
     "name": "stdout",
     "output_type": "stream",
     "text": [
      "\u001b[1mHere the feature names: \n",
      "\u001b[0m['mean radius' 'mean texture' 'mean perimeter' 'mean area'\n",
      " 'mean smoothness' 'mean compactness' 'mean concavity'\n",
      " 'mean concave points' 'mean symmetry' 'mean fractal dimension'\n",
      " 'radius error' 'texture error' 'perimeter error' 'area error'\n",
      " 'smoothness error' 'compactness error' 'concavity error'\n",
      " 'concave points error' 'symmetry error' 'fractal dimension error'\n",
      " 'worst radius' 'worst texture' 'worst perimeter' 'worst area'\n",
      " 'worst smoothness' 'worst compactness' 'worst concavity'\n",
      " 'worst concave points' 'worst symmetry' 'worst fractal dimension']\n",
      "\n",
      "\n"
     ]
    }
   ],
   "source": [
    "print('\\033[1m' + 'Here the feature names: \\n' + '\\033[0m' + str(cancer.feature_names) + '\\n\\n')"
   ]
  },
  {
   "cell_type": "markdown",
   "id": "c98bff6a",
   "metadata": {},
   "source": [
    "## We load the dataset into a DataFrame, setting the column 'target' as the target and the other columns as the inputs to our classification model.\n"
   ]
  },
  {
   "cell_type": "code",
   "execution_count": 5,
   "id": "1d9d2db8",
   "metadata": {},
   "outputs": [
    {
     "name": "stdout",
     "output_type": "stream",
     "text": [
      "<class 'pandas.core.frame.DataFrame'>\n",
      "RangeIndex: 569 entries, 0 to 568\n",
      "Data columns (total 31 columns):\n",
      " #   Column                   Non-Null Count  Dtype  \n",
      "---  ------                   --------------  -----  \n",
      " 0   mean radius              569 non-null    float64\n",
      " 1   mean texture             569 non-null    float64\n",
      " 2   mean perimeter           569 non-null    float64\n",
      " 3   mean area                569 non-null    float64\n",
      " 4   mean smoothness          569 non-null    float64\n",
      " 5   mean compactness         569 non-null    float64\n",
      " 6   mean concavity           569 non-null    float64\n",
      " 7   mean concave points      569 non-null    float64\n",
      " 8   mean symmetry            569 non-null    float64\n",
      " 9   mean fractal dimension   569 non-null    float64\n",
      " 10  radius error             569 non-null    float64\n",
      " 11  texture error            569 non-null    float64\n",
      " 12  perimeter error          569 non-null    float64\n",
      " 13  area error               569 non-null    float64\n",
      " 14  smoothness error         569 non-null    float64\n",
      " 15  compactness error        569 non-null    float64\n",
      " 16  concavity error          569 non-null    float64\n",
      " 17  concave points error     569 non-null    float64\n",
      " 18  symmetry error           569 non-null    float64\n",
      " 19  fractal dimension error  569 non-null    float64\n",
      " 20  worst radius             569 non-null    float64\n",
      " 21  worst texture            569 non-null    float64\n",
      " 22  worst perimeter          569 non-null    float64\n",
      " 23  worst area               569 non-null    float64\n",
      " 24  worst smoothness         569 non-null    float64\n",
      " 25  worst compactness        569 non-null    float64\n",
      " 26  worst concavity          569 non-null    float64\n",
      " 27  worst concave points     569 non-null    float64\n",
      " 28  worst symmetry           569 non-null    float64\n",
      " 29  worst fractal dimension  569 non-null    float64\n",
      " 30  target                   569 non-null    int32  \n",
      "dtypes: float64(30), int32(1)\n",
      "memory usage: 135.7 KB\n",
      "None\n"
     ]
    }
   ],
   "source": [
    "data = cancer.data\n",
    "columns = cancer.feature_names\n",
    "df = pd.DataFrame(data = data, columns = columns)\n",
    "df['target'] = cancer.target\n",
    "print(df.info())"
   ]
  },
  {
   "cell_type": "markdown",
   "id": "c992210f",
   "metadata": {},
   "source": [
    "## We will check the possible output and verify the proportion of possitives and negatives"
   ]
  },
  {
   "cell_type": "code",
   "execution_count": 6,
   "id": "7efd1cfd",
   "metadata": {},
   "outputs": [
    {
     "name": "stdout",
     "output_type": "stream",
     "text": [
      "malignant    212\n",
      "benign       357\n",
      "Name: target, dtype: int64\n"
     ]
    }
   ],
   "source": [
    "values, counts = np.unique(cancer.target, return_counts=True)\n",
    "target = pd.Series(counts, name= \"target\", index=['malignant', 'benign'])\n",
    "\n",
    "print(target)"
   ]
  },
  {
   "cell_type": "markdown",
   "id": "fc856d60",
   "metadata": {},
   "source": [
    "## We will separate the features from the output:"
   ]
  },
  {
   "cell_type": "code",
   "execution_count": 7,
   "id": "8b62260d",
   "metadata": {},
   "outputs": [],
   "source": [
    "X = df.iloc[:, 0:30]\n",
    "y = df['target']"
   ]
  },
  {
   "cell_type": "markdown",
   "id": "53b4af5a",
   "metadata": {},
   "source": [
    "## We will split train and test subsets.  We’ll set aside 25% of the observations for testing."
   ]
  },
  {
   "cell_type": "code",
   "execution_count": 8,
   "id": "7c718159",
   "metadata": {},
   "outputs": [
    {
     "name": "stdout",
     "output_type": "stream",
     "text": [
      "     mean radius  mean texture  mean perimeter  mean area  mean smoothness  \\\n",
      "293       11.850         17.46           75.54      432.7          0.08372   \n",
      "332       11.220         19.86           71.94      387.3          0.10540   \n",
      "565       20.130         28.25          131.20     1261.0          0.09780   \n",
      "278       13.590         17.84           86.24      572.3          0.07948   \n",
      "489       16.690         20.20          107.10      857.6          0.07497   \n",
      "..           ...           ...             ...        ...              ...   \n",
      "277       18.810         19.98          120.90     1102.0          0.08923   \n",
      "9         12.460         24.04           83.97      475.9          0.11860   \n",
      "359        9.436         18.32           59.82      278.6          0.10090   \n",
      "192        9.720         18.22           60.73      288.1          0.06950   \n",
      "559       11.510         23.93           74.52      403.5          0.09261   \n",
      "\n",
      "     mean compactness  mean concavity  mean concave points  mean symmetry  \\\n",
      "293           0.05642        0.026880             0.022800         0.1875   \n",
      "332           0.06779        0.005006             0.007583         0.1940   \n",
      "565           0.10340        0.144000             0.097910         0.1752   \n",
      "278           0.04052        0.019970             0.012380         0.1573   \n",
      "489           0.07112        0.036490             0.023070         0.1846   \n",
      "..                ...             ...                  ...            ...   \n",
      "277           0.05884        0.080200             0.058430         0.1550   \n",
      "9             0.23960        0.227300             0.085430         0.2030   \n",
      "359           0.05956        0.027100             0.014060         0.1506   \n",
      "192           0.02344        0.000000             0.000000         0.1653   \n",
      "559           0.10210        0.111200             0.041050         0.1388   \n",
      "\n",
      "     mean fractal dimension  ...  worst radius  worst texture  \\\n",
      "293                 0.05715  ...        13.060          25.75   \n",
      "332                 0.06028  ...        11.980          25.78   \n",
      "565                 0.05533  ...        23.690          38.25   \n",
      "278                 0.05520  ...        15.500          26.10   \n",
      "489                 0.05325  ...        19.180          26.56   \n",
      "..                      ...  ...           ...            ...   \n",
      "277                 0.04996  ...        19.960          24.30   \n",
      "9                   0.08243  ...        15.090          40.68   \n",
      "359                 0.06959  ...        12.020          25.02   \n",
      "192                 0.06447  ...         9.968          20.83   \n",
      "559                 0.06570  ...        12.480          37.16   \n",
      "\n",
      "     worst perimeter  worst area  worst smoothness  worst compactness  \\\n",
      "293            84.35       517.8           0.13690            0.17580   \n",
      "332            76.91       436.1           0.14240            0.09669   \n",
      "565           155.00      1731.0           0.11660            0.19220   \n",
      "278            98.91       739.1           0.10500            0.07622   \n",
      "489           127.30      1084.0           0.10090            0.29200   \n",
      "..               ...         ...               ...                ...   \n",
      "277           129.00      1236.0           0.12430            0.11600   \n",
      "9              97.65       711.4           0.18530            1.05800   \n",
      "359            75.79       439.6           0.13330            0.10490   \n",
      "192            62.25       303.8           0.07117            0.02729   \n",
      "559            82.28       474.2           0.12980            0.25170   \n",
      "\n",
      "     worst concavity  worst concave points  worst symmetry  \\\n",
      "293          0.13160               0.09140          0.3101   \n",
      "332          0.01335               0.02022          0.3292   \n",
      "565          0.32150               0.16280          0.2572   \n",
      "278          0.10600               0.05185          0.2335   \n",
      "489          0.24770               0.08737          0.4677   \n",
      "..               ...                   ...             ...   \n",
      "277          0.22100               0.12940          0.2567   \n",
      "9            1.10500               0.22100          0.4366   \n",
      "359          0.11440               0.05052          0.2454   \n",
      "192          0.00000               0.00000          0.1909   \n",
      "559          0.36300               0.09653          0.2112   \n",
      "\n",
      "     worst fractal dimension  \n",
      "293                  0.07007  \n",
      "332                  0.06522  \n",
      "565                  0.06637  \n",
      "278                  0.06263  \n",
      "489                  0.07623  \n",
      "..                       ...  \n",
      "277                  0.05737  \n",
      "9                    0.20750  \n",
      "359                  0.08136  \n",
      "192                  0.06559  \n",
      "559                  0.08732  \n",
      "\n",
      "[426 rows x 30 columns]      mean radius  mean texture  mean perimeter  mean area  mean smoothness  \\\n",
      "512        13.40         20.52           88.64      556.7          0.11060   \n",
      "457        13.21         25.25           84.10      537.9          0.08791   \n",
      "439        14.02         15.66           89.59      606.5          0.07966   \n",
      "298        14.26         18.17           91.22      633.1          0.06576   \n",
      "37         13.03         18.42           82.61      523.8          0.08983   \n",
      "..           ...           ...             ...        ...              ...   \n",
      "236        23.21         26.97          153.50     1670.0          0.09509   \n",
      "113        10.51         20.19           68.64      334.2          0.11220   \n",
      "527        12.34         12.27           78.94      468.5          0.09003   \n",
      "76         13.53         10.94           87.91      559.2          0.12910   \n",
      "162        19.59         18.15          130.70     1214.0          0.11200   \n",
      "\n",
      "     mean compactness  mean concavity  mean concave points  mean symmetry  \\\n",
      "512           0.14690         0.14450              0.08172         0.2116   \n",
      "457           0.05205         0.02772              0.02068         0.1619   \n",
      "439           0.05581         0.02087              0.02652         0.1589   \n",
      "298           0.05220         0.02475              0.01374         0.1635   \n",
      "37            0.03766         0.02562              0.02923         0.1467   \n",
      "..                ...             ...                  ...            ...   \n",
      "236           0.16820         0.19500              0.12370         0.1909   \n",
      "113           0.13030         0.06476              0.03068         0.1922   \n",
      "527           0.06307         0.02958              0.02647         0.1689   \n",
      "76            0.10470         0.06877              0.06556         0.2403   \n",
      "162           0.16660         0.25080              0.12860         0.2027   \n",
      "\n",
      "     mean fractal dimension  ...  worst radius  worst texture  \\\n",
      "512                 0.07325  ...         16.41          29.66   \n",
      "457                 0.05584  ...         14.35          34.23   \n",
      "439                 0.05586  ...         14.91          19.31   \n",
      "298                 0.05586  ...         16.22          25.26   \n",
      "37                  0.05863  ...         13.30          22.81   \n",
      "..                      ...  ...           ...            ...   \n",
      "236                 0.06309  ...         31.01          34.51   \n",
      "113                 0.07782  ...         11.16          22.75   \n",
      "527                 0.05808  ...         13.61          19.27   \n",
      "76                  0.06641  ...         14.08          12.49   \n",
      "162                 0.06082  ...         26.73          26.39   \n",
      "\n",
      "     worst perimeter  worst area  worst smoothness  worst compactness  \\\n",
      "512           113.30       844.4           0.15740            0.38560   \n",
      "457            91.29       632.9           0.12890            0.10630   \n",
      "439            96.53       688.9           0.10340            0.10170   \n",
      "298           105.80       819.7           0.09445            0.21670   \n",
      "37             84.46       545.9           0.09701            0.04619   \n",
      "..               ...         ...               ...                ...   \n",
      "236           206.00      2944.0           0.14810            0.41260   \n",
      "113            72.62       374.4           0.13000            0.20490   \n",
      "527            87.22       564.9           0.12920            0.20740   \n",
      "76             91.36       605.5           0.14510            0.13790   \n",
      "162           174.90      2232.0           0.14380            0.38460   \n",
      "\n",
      "     worst concavity  worst concave points  worst symmetry  \\\n",
      "512          0.51060               0.20510          0.3585   \n",
      "457          0.13900               0.06005          0.2444   \n",
      "439          0.06260               0.08216          0.2136   \n",
      "298          0.15650               0.07530          0.2636   \n",
      "37           0.04833               0.05013          0.1987   \n",
      "..               ...                   ...             ...   \n",
      "236          0.58200               0.25930          0.3103   \n",
      "113          0.12950               0.06136          0.2383   \n",
      "527          0.17910               0.10700          0.3110   \n",
      "76           0.08539               0.07407          0.2710   \n",
      "162          0.68100               0.22470          0.3643   \n",
      "\n",
      "     worst fractal dimension  \n",
      "512                  0.11090  \n",
      "457                  0.06788  \n",
      "439                  0.06710  \n",
      "298                  0.07676  \n",
      "37                   0.06169  \n",
      "..                       ...  \n",
      "236                  0.08677  \n",
      "113                  0.09026  \n",
      "527                  0.07592  \n",
      "76                   0.07191  \n",
      "162                  0.09223  \n",
      "\n",
      "[143 rows x 30 columns] 293    1\n",
      "332    1\n",
      "565    0\n",
      "278    1\n",
      "489    0\n",
      "      ..\n",
      "277    0\n",
      "9      0\n",
      "359    1\n",
      "192    1\n",
      "559    1\n",
      "Name: target, Length: 426, dtype: int32 512    0\n",
      "457    1\n",
      "439    1\n",
      "298    1\n",
      "37     1\n",
      "      ..\n",
      "236    0\n",
      "113    1\n",
      "527    1\n",
      "76     1\n",
      "162    0\n",
      "Name: target, Length: 143, dtype: int32\n"
     ]
    }
   ],
   "source": [
    "X_train, X_test, y_train, y_test = train_test_split(X, y, random_state=0, test_size=0.25)\n",
    "print(X_train, X_test, y_train, y_test)"
   ]
  },
  {
   "cell_type": "markdown",
   "id": "8ae25161",
   "metadata": {},
   "source": [
    "## We will fit a k-nearest neighbors (knn) classifier into our training data. Setting n_neighbors=1"
   ]
  },
  {
   "cell_type": "code",
   "execution_count": 9,
   "id": "32f7b777",
   "metadata": {},
   "outputs": [
    {
     "data": {
      "text/plain": [
       "KNeighborsClassifier(n_neighbors=1)"
      ]
     },
     "execution_count": 9,
     "metadata": {},
     "output_type": "execute_result"
    }
   ],
   "source": [
    "knn = KNeighborsClassifier(n_neighbors=1)\n",
    "knn.fit(X_train, y_train)"
   ]
  },
  {
   "cell_type": "markdown",
   "id": "c44b98d8",
   "metadata": {},
   "source": [
    "## Getting a prediction based on the mean value for each feature"
   ]
  },
  {
   "cell_type": "code",
   "execution_count": 10,
   "id": "d7d26547",
   "metadata": {},
   "outputs": [
    {
     "name": "stdout",
     "output_type": "stream",
     "text": [
      "[1]\n"
     ]
    }
   ],
   "source": [
    "predict = df.mean()[:-1].values.reshape(1, -1)\n",
    "mean_predicted = knn.predict(predict)\n",
    "print(mean_predicted)"
   ]
  },
  {
   "cell_type": "markdown",
   "id": "181255cf",
   "metadata": {},
   "source": [
    "## Getting a predition for the test set X_test"
   ]
  },
  {
   "cell_type": "code",
   "execution_count": 11,
   "id": "c25c7eae",
   "metadata": {},
   "outputs": [
    {
     "name": "stdout",
     "output_type": "stream",
     "text": [
      "[1 1 1 0 1 1 1 1 1 1 0 1 1 1 0 0 1 0 0 0 0 1 1 1 0 1 1 1 1 0 1 0 1 0 1 0 1\n",
      " 0 1 0 0 1 0 1 0 0 1 1 1 0 0 1 0 1 1 1 1 1 1 0 0 0 1 1 0 1 0 0 0 1 1 0 1 1\n",
      " 0 1 1 1 1 1 0 0 0 1 0 1 1 1 0 0 1 0 1 0 1 1 0 1 1 1 1 1 1 1 0 1 0 1 0 1 1\n",
      " 0 0 1 1 1 0 1 1 1 1 1 1 1 0 1 1 1 1 1 0 1 1 1 1 1 1 0 0 1 1 1 0]\n"
     ]
    }
   ],
   "source": [
    "y_predicted = knn.predict(X_test)\n",
    "print(y_predicted)"
   ]
  },
  {
   "cell_type": "markdown",
   "id": "c91756e5",
   "metadata": {},
   "source": [
    "## Finding the score (mean accuracy) of the knn classifier "
   ]
  },
  {
   "cell_type": "code",
   "execution_count": 12,
   "id": "64bc5ef8",
   "metadata": {},
   "outputs": [
    {
     "name": "stdout",
     "output_type": "stream",
     "text": [
      "0.916\n"
     ]
    }
   ],
   "source": [
    "score = metrics.accuracy_score(y_test, y_predicted)\n",
    "print(score.round(3))"
   ]
  },
  {
   "cell_type": "markdown",
   "id": "9c985d9f",
   "metadata": {},
   "source": [
    "## Generating the confusion matrix, based on the results."
   ]
  },
  {
   "cell_type": "code",
   "execution_count": 13,
   "id": "e15a01f7",
   "metadata": {},
   "outputs": [
    {
     "name": "stdout",
     "output_type": "stream",
     "text": [
      "[[46  7]\n",
      " [ 5 85]]\n"
     ]
    }
   ],
   "source": [
    "conf_matrix = confusion_matrix(y_test, y_predicted)\n",
    "\n",
    "print(conf_matrix)"
   ]
  },
  {
   "cell_type": "markdown",
   "id": "9cdf9505",
   "metadata": {},
   "source": [
    "## Plotting the confusion matrix using matplotlib"
   ]
  },
  {
   "cell_type": "code",
   "execution_count": 14,
   "id": "4a99df04",
   "metadata": {},
   "outputs": [
    {
     "data": {
      "image/png": "[encoded data removed]",
      "text/plain": [
       "<Figure size 800x600 with 2 Axes>"
      ]
     },
     "metadata": {
      "needs_background": "light"
     },
     "output_type": "display_data"
    }
   ],
   "source": [
    "# We import the libraries needed\n",
    "import matplotlib.pyplot as plt\n",
    "from sklearn.metrics import ConfusionMatrixDisplay\n",
    "\n",
    "# We plot the confusion matrix\n",
    "fig, ax = plt.subplots(figsize=(8,6), dpi=100)\n",
    "display = ConfusionMatrixDisplay(conf_matrix, display_labels=knn.classes_)\n",
    "ax.set(title='Confusion Matrix for the breast cancer detection model')\n",
    "display.plot(ax=ax, cmap= plt.cm.Blues);"
   ]
  },
  {
   "cell_type": "markdown",
   "id": "17bafcb3",
   "metadata": {},
   "source": [
    "## Plotting the confusion matrix using seaborn"
   ]
  },
  {
   "cell_type": "code",
   "execution_count": 15,
   "id": "b9043af1",
   "metadata": {},
   "outputs": [
    {
     "data": {
      "image/png": "[encoded data removed]",
      "text/plain": [
       "<Figure size 800x600 with 2 Axes>"
      ]
     },
     "metadata": {
      "needs_background": "light"
     },
     "output_type": "display_data"
    }
   ],
   "source": [
    "# We import the libraries needed\n",
    "import seaborn as sns\n",
    "\n",
    "# We plot the confusion matrix\n",
    "\n",
    "plt.figure(figsize=(8,6), dpi=100)\n",
    "sns.set(font_scale = 1.1)\n",
    "\n",
    "# annot = True: show the numbers in each heatmap cell\n",
    "# fmt = 'd': show numbers as integers. \n",
    "ax = sns.heatmap(conf_matrix, annot=True, fmt='d', cmap='crest') \n",
    "\n",
    "# set x-axis label and ticks. \n",
    "ax.set_xlabel(\"Predicted Diagnosis\", fontsize=14, labelpad=20)\n",
    "ax.xaxis.set_ticklabels(['Negative', 'Positive'])\n",
    "\n",
    "# set y-axis label, ticks, and title\n",
    "ax.set_ylabel(\"Actual Diagnosis\", fontsize=14, labelpad=20)\n",
    "ax.yaxis.set_ticklabels(['Negative', 'Positive'])\n",
    "ax.set_title(\"Confusion Matrix for the breast cancer detection model\", fontsize=14, pad=20)\n",
    "\n",
    "plt.show()"
   ]
  }
 ],
 "metadata": {
  "kernelspec": {
   "display_name": "Python 3",
   "language": "python",
   "name": "python3"
  },
  "language_info": {
   "codemirror_mode": {
    "name": "ipython",
    "version": 3
   },
   "file_extension": ".py",
   "mimetype": "text/x-python",
   "name": "python",
   "nbconvert_exporter": "python",
   "pygments_lexer": "ipython3",
   "version": "3.8.8"
  }
 },
 "nbformat": 4,
 "nbformat_minor": 5
}
